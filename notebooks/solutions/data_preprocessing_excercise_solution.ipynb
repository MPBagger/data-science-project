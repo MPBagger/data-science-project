{
 "cells": [
  {
   "cell_type": "markdown",
   "id": "cec43059-d42d-4083-b2f1-7260b85d1bd3",
   "metadata": {},
   "source": [
    "#### Exercise 1.1\n",
    "\n",
    "##### Read in the meteorite data from the `Meteorite_Landings.csv` file, rename the `mass (g)` column to `mass`, and drop all the latitude and longitude columns. Sort the result by mass in descending order."
   ]
  },
  {
   "cell_type": "code",
   "execution_count": 102,
   "id": "45c600b8-fd95-4dd0-ac75-47af19a4aac0",
   "metadata": {},
   "outputs": [],
   "source": [
    "import pandas as pd\n",
    "\n",
    "df = pd.read_csv('data/Meteorite_Landings.csv')\n",
    "df = df.rename(columns = {'mass (g)': 'mass'})\n",
    "df = df.drop(columns=['reclat', 'reclong'])"
   ]
  },
  {
   "cell_type": "code",
   "execution_count": 69,
   "id": "a297b594-b654-4fd1-b560-01b44e918c1e",
   "metadata": {},
   "outputs": [],
   "source": [
    "assert type(df) == pd.core.frame.DataFrame\n",
    "assert 'mass' in df.columns\n",
    "assert 'reclong' not in df.columns\n",
    "assert 'reclat' not in df.columns"
   ]
  },
  {
   "cell_type": "markdown",
   "id": "96975920-5397-41b3-b5f6-fc2a17c69ac5",
   "metadata": {},
   "source": [
    "#### Exercise-1.2\n",
    "\n",
    "##### Using the meteorite data from the `Meteorite_Landings.csv` file, update the `year` column to only contain the year, convert it to a numeric data type, and create a new column indicating whether the meteorite was observed falling before 1970. Set the index to the `id` column and extract all the rows with IDs between 10,036 and 10,040 (inclusive) with `loc[]`.\n",
    "\n",
    "###### **Hint 1**: Use `year.str.slice()` to grab a substring.\n",
    "\n",
    "###### **Hint 2**: Make sure to sort the index before using `loc[]` to select the range.\n",
    "\n",
    "###### **Bonus**: There's a data entry error in the `year` column. Can you find it? (Don't spend too much time on this.)"
   ]
  },
  {
   "cell_type": "code",
   "execution_count": 103,
   "id": "9a28d9c5-6be4-4213-ac13-03b6253b1736",
   "metadata": {},
   "outputs": [],
   "source": [
    "df = df.assign(\n",
    "    year = lambda x: pd.to_numeric(x.year.str.slice(6,10)),\n",
    "    before1970 = lambda x: x.year < 1970\n",
    ")\n",
    "df.set_index('id', inplace=True)\n",
    "df = df.sort_index()\n",
    "subset = df.loc[10036:10040]"
   ]
  },
  {
   "cell_type": "code",
   "execution_count": 104,
   "id": "e5469d51-17df-41a7-a320-0811593ae80e",
   "metadata": {},
   "outputs": [],
   "source": [
    "assert df.year.dtype == 'float64'\n",
    "assert df.index.name == 'id'\n",
    "subset = subset.rename(columns = {'mass (g)': 'mass'})\n",
    "assert subset.mass.mean() == 33964.25"
   ]
  },
  {
   "cell_type": "markdown",
   "id": "7491b4d2-7d88-4695-9868-7a5c0e551c45",
   "metadata": {},
   "source": [
    "#### Exercise-1.3\n",
    "\n",
    "##### Using the meteorite data from the `Meteorite_Landings.csv` file, create a pivot table that shows both the number of meteorites and the 95th percentile of meteorite mass for those that were found versus observed falling per year from 2005 through 2009 (inclusive). \n",
    "\n",
    "Hint 1: Be sure to convert the `year` column to a number as we did in the previous exercise.\n",
    "\n",
    "Hint 2: There are missing values on mass."
   ]
  },
  {
   "cell_type": "code",
   "execution_count": 168,
   "id": "c4f3be8c-1839-44f6-a57f-9566269c66a7",
   "metadata": {},
   "outputs": [],
   "source": [
    "import numpy as np\n",
    "\n",
    "df = pd.read_csv('data/Meteorite_Landings.csv')\n",
    "df = df.rename(columns = {'mass (g)': 'mass'})\n",
    "df = df.assign(\n",
    "    year = lambda x: pd.to_numeric(x.year.str.slice(6,10)),\n",
    "    before1970 = lambda x: x.year < 1970,\n",
    "    mass = lambda x: x.mass.fillna(0)\n",
    ")\n",
    "#df.mass = df.mass.fillna(0)\n",
    "\n",
    "df_pivoted = df[(df.year >= 2005) & (df.year <= 2009)].pivot_table(\n",
    "    index='year', values='mass', aggfunc=['count', lambda x:np.percentile(x,95)]\n",
    ")"
   ]
  },
  {
   "cell_type": "code",
   "execution_count": 177,
   "id": "6ca50f83-481f-4fa2-8c0e-7a0bcf05f643",
   "metadata": {},
   "outputs": [
    {
     "data": {
      "text/plain": [
       "1722.5500000000002"
      ]
     },
     "execution_count": 177,
     "metadata": {},
     "output_type": "execute_result"
    }
   ],
   "source": [
    "df_pivoted.loc[2006][1]"
   ]
  },
  {
   "cell_type": "code",
   "execution_count": 178,
   "id": "2ae9c497-4fc7-4598-b7de-0d3b6bfd0b2a",
   "metadata": {},
   "outputs": [],
   "source": [
    "assert df_pivoted.loc[2006][0] == 2456\n",
    "assert int(df_pivoted.loc[2006][1]) == 1722"
   ]
  }
 ],
 "metadata": {
  "kernelspec": {
   "display_name": "Python 3 (ipykernel)",
   "language": "python",
   "name": "python3"
  },
  "language_info": {
   "codemirror_mode": {
    "name": "ipython",
    "version": 3
   },
   "file_extension": ".py",
   "mimetype": "text/x-python",
   "name": "python",
   "nbconvert_exporter": "python",
   "pygments_lexer": "ipython3",
   "version": "3.11.4"
  }
 },
 "nbformat": 4,
 "nbformat_minor": 5
}
