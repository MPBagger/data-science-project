{
 "cells": [
  {
   "cell_type": "markdown",
   "id": "43f6212a",
   "metadata": {},
   "source": [
    "## What is python"
   ]
  },
  {
   "cell_type": "markdown",
   "id": "aa10cab3",
   "metadata": {},
   "source": [
    "[Python](http://www.python.org/) is a modern, general-purpose, object-oriented, high-level programming language.\n",
    "\n",
    "General characteristics of Python:\n",
    "\n",
    "* **simple and clean:** Python code is easy-to-read and intuitive, has easy-to-learn minimalistic syntax, and maintainability scales well with size of projects.\n",
    "* **expressive language:** Fewer lines of code, fewer bugs, easier to maintain.\n",
    "\n",
    "Technical details:\n",
    "\n",
    "* **dynamically typed:** No need to define the type of variables, function arguments or return types.\n",
    "* **automatic memory management:** No need to explicitly allocate and deallocate memory for variables and data arrays. No memory leak bugs. \n",
    "* **interpreted:** No need to compile the code. The Python interpreter reads and executes the python code directly.\n",
    "\n",
    "Advantages:\n",
    "\n",
    "* The main advantage is ease of programming, minimizing the time required to develop, debug and maintain the code.\n",
    "* Well designed language that encourage many good programming practices:\n",
    " * Modular and object-oriented programming, good system for packaging and re-use of code. This often results in more transparent, maintainable and bug-free code.\n",
    " * Documentation tightly integrated with the code.\n",
    "* A large standard library, and a large collection of add-on packages.\n",
    "\n",
    "Disadvantages:\n",
    "\n",
    "* Since Python is an interpreted and dynamically typed programming language, the execution of python code can be slow compared to compiled statically typed programming languages, such as C and Fortran. \n",
    "* Somewhat decentralized, with different environment, packages and documentation spread out at different places. Can make it harder to get started."
   ]
  },
  {
   "cell_type": "markdown",
   "id": "28f6f6c9",
   "metadata": {},
   "source": [
    "## Popular Language for Data Analysis"
   ]
  },
  {
   "cell_type": "markdown",
   "id": "afc7d1b9",
   "metadata": {},
   "source": [
    "Most of the time, you will need external packages to asist data analyses.\n",
    "\n",
    "<img src=\"images/packages.png\" width=\"800\">"
   ]
  },
  {
   "cell_type": "markdown",
   "id": "4b345858",
   "metadata": {},
   "source": [
    "## The Zen of Python"
   ]
  },
  {
   "cell_type": "code",
   "execution_count": null,
   "id": "37385c49",
   "metadata": {},
   "outputs": [],
   "source": [
    "import this"
   ]
  },
  {
   "cell_type": "markdown",
   "id": "fdf51d35",
   "metadata": {},
   "source": [
    "## Variables"
   ]
  },
  {
   "cell_type": "markdown",
   "id": "45e0bc26",
   "metadata": {},
   "source": [
    "Vairables can be considered __containers__. You can put anything inside a container, __without specifying the size or type__, which will be needed in Java or C. \n",
    "\n",
    "Variable names are references to objects in memory."
   ]
  },
  {
   "cell_type": "markdown",
   "id": "24edd7b8-1a84-4644-b904-59d4dc5b2a29",
   "metadata": {},
   "source": [
    "### Assigning variables"
   ]
  },
  {
   "cell_type": "markdown",
   "id": "b62822d2",
   "metadata": {},
   "source": [
    "When assigning values, we put the variable to be assigned to on the left hand side (LHS), while the value to plug in on the RHS. LHS and RHS are connected by an equal sign (`=`), meaning assignment."
   ]
  },
  {
   "cell_type": "code",
   "execution_count": null,
   "id": "c6998e0c",
   "metadata": {},
   "outputs": [],
   "source": [
    "x = 3 # integer\n",
    "y = 3. # floating point number\n",
    "z = \"Hello!\" # strings\n",
    "Z = \"Wonderful!\" # another string, stored in a variable big z.\n",
    "print(x)\n",
    "print(y)\n",
    "print(z)\n",
    "print(Z)"
   ]
  },
  {
   "cell_type": "markdown",
   "id": "55605c03-2d52-46fc-a4c4-928fb2324d99",
   "metadata": {},
   "source": [
    "Some basics in working with variables:\n",
    "- Use meaningful variables names \n",
    "- Note that Python is case-sensitive. Be careful about using letters in different cases.\n",
    "- Don't use python reserved keywords as variable names `help(\"keywords\")`."
   ]
  },
  {
   "cell_type": "code",
   "execution_count": null,
   "id": "39b792f9-4b6e-4cf0-9b6c-cc7b3c3546ad",
   "metadata": {},
   "outputs": [],
   "source": [
    "help(\"keywords\")"
   ]
  },
  {
   "cell_type": "markdown",
   "id": "18f4105e",
   "metadata": {},
   "source": [
    "### Naming convention"
   ]
  },
  {
   "cell_type": "markdown",
   "id": "00cbb4ba",
   "metadata": {},
   "source": [
    "There are two commonly used style in programming:\n",
    "\n",
    "1. __camelCase__\n",
    "2. __snake_case__ or __lower_case_with_underscore__\n",
    "\n",
    "Please look into the pep8 under [naming conventions](https://peps.python.org/pep-0008/#naming-conventions) for more information.\n",
    "\n",
    "For variables and functions in pyuthon we use __snake_case___"
   ]
  },
  {
   "attachments": {},
   "cell_type": "markdown",
   "id": "dbcd0f88-ab52-43d1-89bb-b84c2cf21992",
   "metadata": {},
   "source": [
    "### Comments\n",
    "\n",
    "A '#' indicates the beginning of a comment. From ‘#’ until of end of line is ignored by Python. \n",
    "\n",
    "```python \n",
    "x = 42  # and here goes the comment\n",
    "```\n",
    "\n",
    "Comments are useful to describe what a piece of code is supposed to do, what kind of input is expected, what is the output, side effects..."
   ]
  },
  {
   "attachments": {},
   "cell_type": "markdown",
   "id": "884710b8-5f4b-4deb-b055-eb97abb3b9dc",
   "metadata": {
    "jp-MarkdownHeadingCollapsed": true
   },
   "source": [
    "## `print()`\n",
    "\n",
    "The print statement can print zero, one, or more values.\n",
    "  \n",
    "Default behavior\n",
    "- print a space between values\n",
    "- print a line break after printing all values\n",
    "- Default behavior can be changed by keyword arguments ”sep” and ”end”"
   ]
  },
  {
   "cell_type": "code",
   "execution_count": null,
   "id": "08fe73f5",
   "metadata": {},
   "outputs": [],
   "source": [
    "print()\n",
    "\n",
    "print(1)\n",
    "\n",
    "print(2, 'Hello')\n",
    "\n",
    "print(\"a\", \"b\", 3)\n",
    "\n",
    "print(\"c\", \"d\", 4, sep=':')\n",
    "\n",
    "print(5);print(6)\n",
    "\n",
    "print(7, end=', ');print(8)"
   ]
  },
  {
   "cell_type": "markdown",
   "id": "f7813756",
   "metadata": {},
   "source": [
    "## `help(…)`\n",
    "\n",
    "The help function gives you info any module, keyword, or topic"
   ]
  },
  {
   "cell_type": "code",
   "execution_count": null,
   "id": "46284e7d-db8d-41a9-a85a-b3f2db3c7d5e",
   "metadata": {},
   "outputs": [],
   "source": [
    "help(print)"
   ]
  },
  {
   "cell_type": "markdown",
   "id": "031abab2-6099-4935-9e64-0d858bc672ba",
   "metadata": {},
   "source": [
    "## Whitespace Formatting\n",
    "\n",
    "Many languages use curly braces to delimit blocks of code. Python uses indentation (four spaces):"
   ]
  },
  {
   "cell_type": "code",
   "execution_count": null,
   "id": "30cb2f50",
   "metadata": {},
   "outputs": [],
   "source": [
    "for i in [1, 2]:\n",
    "    print(i)                    # first line in \"for i\" block\n",
    "    for j in [3, 4]:\n",
    "        print(j)                # first line in \"for j\" block\n",
    "        print(i + j)            # last line in \"for j\" block\n",
    "    print(i)                    # last line in \"for i\" block\n",
    "print(\"done looping\")"
   ]
  },
  {
   "cell_type": "markdown",
   "id": "9a50694b",
   "metadata": {},
   "source": [
    "## Notebooks"
   ]
  },
  {
   "cell_type": "markdown",
   "id": "1f9bd161",
   "metadata": {},
   "source": [
    "###### Basics\n",
    "1. [Strings](basic/01_strings.ipynb)\n",
    "2. [Numbers](basic/02_numbers.ipynb)\n",
    "3. [Lists](basic/03_lists.ipynb)\n",
    "4. [Dictionaries](basic/04_dictionaries.ipynb)\n",
    "5. [Boolean and comparisions](basic/05_boolean_comparisions.ipynb)\n",
    "6. [If-Else](basic/06_if_else.ipynb)\n",
    "7. [Loops](basic/07_loops.ipynb)\n",
    "   \n",
    "###### Extended\n",
    "1. [File_io](basic/08_file_io.ipynb)\n",
    "2. [Functions](basic/09_functions.ipynb)\n",
    "   \n",
    "###### Data\n",
    "1. [API's](date_retrieval/01_APIs.ipynb)\n",
    "1. [Scraping](date_retrieval/02_scraping.ipynb)\n",
    "1. [Introducing pandas](data_processing/01_pandas_intro.ipynb)\n",
    "1. [Data Cleaning](data_processing/02_basic_data_cleaning.ipynb)\n",
    "1. [Preprocessing](data_processing/04_data_preprocessing.ipynb)\n",
    "<!-- 1. [Basic NLP](data_processing/03_basic_NLP.ipynb)\n",
    "1. [Sentiment Analysis](data_processing/06_Sentiment_Analysis.ipynb)\n",
    "1. [Topic Modelling](data_processing/05_Topic_Modelling.ipynb) -->\n",
    "\n",
    "###### Excercises \n",
    "1. [Strings](exercises/strings_exercise.ipynb)\n",
    "2. [Numbers](exercises/numbers_exercise.ipynb)\n",
    "3. [Lists](exercises/lists_exercise.ipynb)\n",
    "4. [Dictionaries](exercises/dictionaries_exercise.ipynb)\n",
    "5. [Conditionals](exercises/conditionals_exercise.ipynb)\n",
    "6. [For loops](exercises/for_loops_exercise.ipynb)\n",
    "7. [File_io](exercises/file_io_exercise.ipynb)\n",
    "   "
   ]
  },
  {
   "cell_type": "markdown",
   "id": "d9b24185",
   "metadata": {},
   "source": []
  }
 ],
 "metadata": {
  "kernelspec": {
   "display_name": "Python 3 (ipykernel)",
   "language": "python",
   "name": "python3"
  },
  "language_info": {
   "codemirror_mode": {
    "name": "ipython",
    "version": 3
   },
   "file_extension": ".py",
   "mimetype": "text/x-python",
   "name": "python",
   "nbconvert_exporter": "python",
   "pygments_lexer": "ipython3",
   "version": "3.10.12"
  }
 },
 "nbformat": 4,
 "nbformat_minor": 5
}
