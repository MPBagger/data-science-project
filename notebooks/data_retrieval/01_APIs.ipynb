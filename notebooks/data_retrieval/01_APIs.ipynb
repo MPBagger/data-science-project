{
 "cells": [
  {
   "cell_type": "markdown",
   "id": "95adbd63",
   "metadata": {},
   "source": [
    "# APIs for data retrieval"
   ]
  },
  {
   "cell_type": "markdown",
   "id": "a7fb0c25",
   "metadata": {},
   "source": [
    "An Application Programming Interface, commonly known as API, is a set of protocols, routines, and tools for building software applications. APIs allow different software systems to communicate with each other and exchange data in a standardized and efficient way.\n",
    "\n",
    "APIs for retrieving data enable developers to access and extract information from various sources such as databases, web services, or applications. These APIs often provide a structured and consistent way of accessing data, making it easier for developers to consume and use the data in their applications.\n",
    "\n",
    "APIs for retrieving data can be used for a variety of purposes, such as gathering information for business intelligence, analyzing user behavior, or integrating data from different sources into a single application. These APIs often use standardized data formats, such as JSON or XML, to ensure compatibility and interoperability between different systems.\n",
    "\n",
    "As the amount of data available online continues to grow, APIs for retrieving data have become an essential tool for developers to access and analyze this data. By leveraging these APIs, developers can quickly and easily retrieve the data they need, without having to manually extract and process it themselves."
   ]
  },
  {
   "cell_type": "markdown",
   "id": "379e4bc6",
   "metadata": {},
   "source": [
    "### API types\n",
    "There are several types of APIs available, but two of the most commonly used types are REST API and HTTP API.\n",
    "\n",
    "- REST API (Representational State Transfer API):\n",
    "REST stands for Representational State Transfer, and it's a set of architectural principles for building web services. A REST API is a type of web service that follows the REST architecture principles. REST APIs use HTTP methods (GET, POST, PUT, DELETE, etc.) to access and manipulate resources, which are identified by URIs (Uniform Resource Identifiers). REST APIs typically return data in JSON or XML format and are widely used for building web and mobile applications.\n",
    "\n",
    "\n",
    "- HTTP API (Hypertext Transfer Protocol API):\n",
    "HTTP stands for Hypertext Transfer Protocol, which is the protocol used for transferring data over the World Wide Web. An HTTP API is a type of web service that uses HTTP methods to access and manipulate resources. An HTTP API can be RESTful, but it doesn't have to be. HTTP APIs are often used for simple operations like CRUD (Create, Read, Update, Delete) on resources and return data in JSON or XML format.\n",
    "\n",
    "\n",
    "Other types of APIs include SOAP (Simple Object Access Protocol), GraphQL, and WebSockets. SOAP is an older protocol used for building web services, while GraphQL is a newer API technology that allows clients to specify the data they need and receive it in a single request. WebSockets are used for real-time, two-way communication between a client and a server."
   ]
  },
  {
   "cell_type": "markdown",
   "id": "66cd8504",
   "metadata": {},
   "source": [
    "### python and APIs"
   ]
  },
  {
   "cell_type": "markdown",
   "id": "b8aa0559",
   "metadata": {},
   "source": [
    "Python is a popular programming language that provides powerful tools for interacting with APIs. Here are the steps to interact with APIs using Python:\n",
    "\n",
    "1. Import the necessary libraries: Python has several libraries that make it easy to interact with APIs, including requests, json, and urllib. Before making any API requests, you need to import the appropriate libraries.\n",
    "\n",
    "2. Find the API endpoint: The endpoint is the URL that you will use to send your API requests. It's essential to understand the API documentation to find the correct endpoint for the specific data you want to retrieve.\n",
    "\n",
    "3. Send a request: Once you have the endpoint, you can use Python's requests library to send an HTTP request to the API endpoint. The requests library has several methods for sending different types of HTTP requests, including GET, POST, PUT, DELETE, and more.\n",
    "\n",
    "4. Parse the response: The API response will typically be in JSON format. Python's json library can be used to parse the JSON data and convert it into a Python dictionary that you can easily work with in your code.\n",
    "\n",
    "5. Extract the data: Once you have the API response in a Python dictionary, you can extract the data you need and use it in your application.\n",
    "\n",
    "Python's ease of use and powerful libraries make it an excellent language for interacting with APIs. With just a few lines of code, you can send requests to APIs, parse the response data, and extract the information you need to build powerful applications."
   ]
  },
  {
   "cell_type": "markdown",
   "id": "6dae10ef",
   "metadata": {},
   "source": [
    "### Using the request package"
   ]
  },
  {
   "cell_type": "markdown",
   "id": "faf67fa6",
   "metadata": {},
   "source": [
    "To do this, we need to know how to send requests first. We will use an amazing package called [`requests`](http://docs.python-requests.org/en/master/). If you do not have it installed, please install it using e.g. `poetry add` (in your command prompt or terminal):\n",
    "\n",
    "\n",
    "```$ poetry add requests```\n"
   ]
  },
  {
   "cell_type": "code",
   "execution_count": 3,
   "id": "a100dc17",
   "metadata": {},
   "outputs": [],
   "source": [
    "import requests # library for making HTTP requests\n",
    "import pandas as pd # library for data analysis\n",
    "import datetime as dt # library for handling date and time objects"
   ]
  },
  {
   "cell_type": "markdown",
   "id": "5903fafa",
   "metadata": {},
   "source": [
    "###### open DMI weather data \n",
    "\n",
    "Go to the [documentation](https://opendatadocs.dmi.govcloud.dk/en/DMIOpenData)\n",
    "\n",
    "Using weather as an example, we should first know what is the request URL (where the request goes to), with what parameters(e.g., API key and stationID). In our case, we know that our API key and the stationId to query so we can do the following.\n",
    "\n",
    "You will have to create a user and retrieve an API key for the API you want to use [how to](https://opendatadocs.dmi.govcloud.dk/Authentication)\n",
    "\n",
    "I have saved my API key in an file ```.env```\n",
    "    \n",
    "    api_key = your_api_key \n",
    "\n",
    "Specifically we will look at [Meteorological Observation](https://opendatadocs.dmi.govcloud.dk/en/APIs/Meteorological_Observation_API) "
   ]
  },
  {
   "cell_type": "code",
   "execution_count": null,
   "id": "12a3544b",
   "metadata": {},
   "outputs": [],
   "source": [
    "# Read the keys and tokens into a dictionary\n",
    "my_dict = {}\n",
    "\n",
    "with open(\"./.env\", \"r\") as f:\n",
    "    for line in f:\n",
    "        key,val = line.split('=')\n",
    "        my_dict[key.strip()] = val.strip()\n",
    "\n",
    "# in order to use this API key, we have to create the key first "
   ]
  },
  {
   "cell_type": "code",
   "execution_count": null,
   "id": "48aebd6f",
   "metadata": {},
   "outputs": [],
   "source": [
    "api_key = my_dict['api_key']\n",
    "stationId = '06074' # list of stationId: https://confluence.govcloud.dk/pages/viewpage.action?pageId=41717704"
   ]
  },
  {
   "cell_type": "code",
   "execution_count": null,
   "id": "7229ff32",
   "metadata": {},
   "outputs": [],
   "source": [
    "DMI_URL = 'https://dmigw.govcloud.dk/v2/metObs/collections/station/items'\n",
    "r = requests.get(DMI_URL, params={'api-key': api_key, \"stationId\": stationId}) # Issues a HTTP GET request\n",
    "r.url # `requests` help us encode the URL in the correct format"
   ]
  },
  {
   "cell_type": "code",
   "execution_count": null,
   "id": "00373ce1",
   "metadata": {},
   "outputs": [],
   "source": [
    "r.status_code # 200 means success"
   ]
  },
  {
   "cell_type": "code",
   "execution_count": null,
   "id": "a56d84dd",
   "metadata": {},
   "outputs": [],
   "source": [
    "station = r.json()\n",
    "station"
   ]
  },
  {
   "cell_type": "code",
   "execution_count": null,
   "id": "07822bfa",
   "metadata": {},
   "outputs": [],
   "source": [
    "DMI_URL = 'https://dmigw.govcloud.dk/v2/metObs/collections/observation/items'\n",
    "r = requests.get(DMI_URL, params={'api-key': api_key, \"stationId\": '06074', 'period': 'latest-day', 'parameterId': 'temp_dry'}) # Issues a HTTP GET request\n",
    "print(r)"
   ]
  },
  {
   "cell_type": "code",
   "execution_count": null,
   "id": "4cd6b202",
   "metadata": {
    "scrolled": true
   },
   "outputs": [],
   "source": [
    "dmi = r.json()  # Extract JSON data\n",
    "dmi  # Print the keys of the JSON dictionary"
   ]
  },
  {
   "cell_type": "markdown",
   "id": "79d87f77",
   "metadata": {},
   "source": [
    "JSON object will be converted into a `dict` type, which is the data structure in Python holding key value pairs. To access certain values, we just access them like a `dict`."
   ]
  },
  {
   "cell_type": "code",
   "execution_count": null,
   "id": "3a5c215a",
   "metadata": {},
   "outputs": [],
   "source": [
    "dmi['features']"
   ]
  },
  {
   "cell_type": "code",
   "execution_count": null,
   "id": "fc40ac93",
   "metadata": {},
   "outputs": [],
   "source": [
    "dmi['features'][0]"
   ]
  },
  {
   "cell_type": "code",
   "execution_count": null,
   "id": "91bbaafd",
   "metadata": {},
   "outputs": [],
   "source": [
    "dmi['features'][0]['properties']"
   ]
  },
  {
   "cell_type": "code",
   "execution_count": null,
   "id": "f4afa53f",
   "metadata": {},
   "outputs": [],
   "source": [
    "dmi['features'][0]['properties']['value']"
   ]
  },
  {
   "cell_type": "code",
   "execution_count": null,
   "id": "99cffc1f",
   "metadata": {},
   "outputs": [],
   "source": [
    "for feature in dmi['features']:\n",
    "    for key, value in feature['properties'].items():\n",
    "         print(key, value)"
   ]
  },
  {
   "cell_type": "markdown",
   "id": "7634fccb",
   "metadata": {},
   "source": [
    "Now it gets interesting, as we can put the values into a dataframe (more on dataframes later)."
   ]
  },
  {
   "cell_type": "code",
   "execution_count": null,
   "id": "7e491c23",
   "metadata": {},
   "outputs": [],
   "source": [
    "import pandas as pd\n",
    "\n",
    "lst = []\n",
    "\n",
    "for values in dmi['features']:\n",
    "    lst.append(pd.DataFrame.from_dict(values['properties'], orient='index').transpose())"
   ]
  },
  {
   "cell_type": "code",
   "execution_count": null,
   "id": "40719a5e",
   "metadata": {},
   "outputs": [],
   "source": [
    "df = pd.concat(lst).reset_index()"
   ]
  },
  {
   "cell_type": "code",
   "execution_count": null,
   "id": "d389bd79",
   "metadata": {},
   "outputs": [],
   "source": [
    "df"
   ]
  },
  {
   "cell_type": "markdown",
   "id": "42fc1e3e",
   "metadata": {},
   "source": [
    "### Use packages: Twitter API as an example"
   ]
  },
  {
   "cell_type": "markdown",
   "id": "81853ea2",
   "metadata": {},
   "source": [
    "Many web servers have their own APIs ready to use. By using these convenient tools, we can get started right off following their documentations and examples without any manual efforts. \n",
    "\n",
    "We will be using <a href=\"https://apps.twitter.com/\" target=\"_blank\">Twitter API</a> as an example. We will first install this package as shown [here](https://python-twitter.readthedocs.io/en/latest/installation.html)"
   ]
  },
  {
   "cell_type": "markdown",
   "id": "80b4af1f",
   "metadata": {},
   "source": [
    "You have to register an account for Twitter Developer and register an app. \n",
    "\n",
    "- go to https://dev.twitter.com/ and get an app togther. <a href=\"https://python-twitter.readthedocs.io/en/latest/getting_started.html\" target=\"_b lank\">Here</a>'s a quick start on how you can do this. \n",
    "\n",
    "After obtaining *__consumer key__*, *__consumer secret__*, *__access token__*, and *__access token secret__*, you are ready to retrieve some data from Twitter!"
   ]
  },
  {
   "cell_type": "markdown",
   "id": "35122443",
   "metadata": {},
   "source": [
    "I have created a .env file in my root folder in the following way:\n",
    "\n",
    "```\n",
    "consumer_key = your_consumer_key \n",
    "consumer_secret = your_consumer_secret\n",
    "access_token = your_access_token\n",
    "access_secret = your_access_secret\n",
    "```"
   ]
  },
  {
   "cell_type": "code",
   "execution_count": null,
   "id": "42e8ca16",
   "metadata": {},
   "outputs": [],
   "source": [
    "# Read the keys and tokens into a dictionary\n",
    "my_dict = {}\n",
    "\n",
    "with open(\"../.env\", \"r\") as f:\n",
    "    for line in f:\n",
    "        key,val = line.split('=')\n",
    "        my_dict[key.strip()] = val.strip()"
   ]
  },
  {
   "cell_type": "code",
   "execution_count": null,
   "id": "8d6e5aaa",
   "metadata": {},
   "outputs": [],
   "source": [
    "my_dict"
   ]
  },
  {
   "cell_type": "code",
   "execution_count": null,
   "id": "2580129b",
   "metadata": {},
   "outputs": [],
   "source": [
    "## load twitter package, which a well-written Python package for Twitter APIs\n",
    "import twitter\n",
    "api = twitter.Api(consumer_key=my_dict['consumer_key'],\n",
    "                  consumer_secret=my_dict['consumer_secret'],                  \n",
    "                  access_token_key=my_dict['access_token'],\n",
    "                  access_token_secret=my_dict['access_secret'])\n",
    "\n",
    "## check status\n",
    "api.VerifyCredentials()"
   ]
  },
  {
   "cell_type": "code",
   "execution_count": null,
   "id": "d278361c",
   "metadata": {},
   "outputs": [],
   "source": [
    "statuses = api.GetUserTimeline(screen_name=\"PetriBagger\")\n",
    "for s in statuses:\n",
    "    print(s.text)"
   ]
  },
  {
   "cell_type": "code",
   "execution_count": null,
   "id": "e552bbd9",
   "metadata": {},
   "outputs": [],
   "source": [
    "statuses = api.GetUserTimeline(user_id=\"966273572015624192\")\n",
    "for s in statuses:\n",
    "    print(s.created_at)"
   ]
  },
  {
   "cell_type": "code",
   "execution_count": null,
   "id": "5adf11e9",
   "metadata": {},
   "outputs": [],
   "source": [
    "friends = api.GetFriends()\n",
    "for f in friends:\n",
    "    print(f.name)"
   ]
  },
  {
   "cell_type": "markdown",
   "id": "f81f3325",
   "metadata": {},
   "source": [
    "More interestingly, let's go get some tweets from Twitter. Let's try to search for tweets related to `gpt4` since 01/01/2023 in English.\n",
    "- See https://dev.twitter.com/rest/public/search for more informaiton on how to construct a query"
   ]
  },
  {
   "cell_type": "code",
   "execution_count": null,
   "id": "b711df09",
   "metadata": {},
   "outputs": [],
   "source": [
    "results = api.GetSearch(\n",
    "    raw_query=\"q=gpt4&src=typed_query&since=2023-01-01&lang=en\")\n"
   ]
  },
  {
   "cell_type": "code",
   "execution_count": null,
   "id": "62363145",
   "metadata": {},
   "outputs": [],
   "source": [
    "len(results)"
   ]
  },
  {
   "cell_type": "code",
   "execution_count": null,
   "id": "0ce1f6b9",
   "metadata": {},
   "outputs": [],
   "source": [
    "print(results)"
   ]
  },
  {
   "cell_type": "code",
   "execution_count": null,
   "id": "8e224433",
   "metadata": {},
   "outputs": [],
   "source": [
    "from IPython.display import clear_output\n",
    "for tw in results:\n",
    "    print(\"%s. Tweeted by \\033[41m%s\\033[0m\"%(tw.text, tw.user.screen_name))"
   ]
  },
  {
   "cell_type": "markdown",
   "id": "7063e1f8",
   "metadata": {},
   "source": [
    "I went through some examples of using APIs to get various types of data in Python. The last Twitter example is relatively superficial. There are other packages to twitter, [`tweepy`] package seems to be pretty popular as well: http://www.tweepy.org/"
   ]
  },
  {
   "cell_type": "markdown",
   "id": "b33356c0",
   "metadata": {},
   "source": [
    "return to [overview](../00_overview.ipynb)"
   ]
  }
 ],
 "metadata": {
  "kernelspec": {
   "display_name": "Python 3 (ipykernel)",
   "language": "python",
   "name": "python3"
  },
  "language_info": {
   "codemirror_mode": {
    "name": "ipython",
    "version": 3
   },
   "file_extension": ".py",
   "mimetype": "text/x-python",
   "name": "python",
   "nbconvert_exporter": "python",
   "pygments_lexer": "ipython3",
   "version": "3.12.2"
  }
 },
 "nbformat": 4,
 "nbformat_minor": 5
}
